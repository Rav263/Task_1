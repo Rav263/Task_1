{
 "cells": [
  {
   "cell_type": "code",
   "execution_count": 1,
   "metadata": {},
   "outputs": [],
   "source": [
    "import numpy as np\n",
    "import cv2\n",
    "from matplotlib import pyplot as plt"
   ]
  },
  {
   "cell_type": "code",
   "execution_count": 7,
   "metadata": {},
   "outputs": [],
   "source": [
    "def hash_img(img):\n",
    "    img = cv2.cvtColor(img, cv2.COLOR_BGR2GRAY)\n",
    "    img = cv2.medianBlur(img, 5)\n",
    "    \n",
    "    w, h = img.shape\n",
    "\n",
    "    w = 32 / w\n",
    "    h = 32 / h\n",
    "\n",
    "    img = cv2.resize(img, None, fx=h, fy=w, interpolation=cv2.INTER_NEAREST)\n",
    "    \n",
    "    dct = cv2.dct(np.float32(img))\n",
    "    \n",
    "    mid = 0\n",
    "    for x in dct:\n",
    "        for y in x:\n",
    "            mid += y\n",
    "\n",
    "    mid /= 1024\n",
    "        \n",
    "        \n",
    "    dct = [[1 if y > mid else 0 for y in x] for x in dct]\n",
    "    \n",
    "    hash = 0\n",
    "    for x in range(0, 8):\n",
    "        for y in range(0, 8):\n",
    "            hash <<= 1\n",
    "            hash += dct[x][y]\n",
    "            \n",
    "    return hash"
   ]
  },
  {
   "cell_type": "code",
   "execution_count": 8,
   "metadata": {},
   "outputs": [],
   "source": [
    "img1 = plt.imread('1.jpg')\n",
    "img2 = plt.imread('2.jpg')\n",
    "img3 = plt.imread('3.jpg')"
   ]
  },
  {
   "cell_type": "code",
   "execution_count": 9,
   "metadata": {},
   "outputs": [],
   "source": [
    "hash1 = hash_img(img1)\n",
    "hash2 = hash_img(img2)\n",
    "hash3 = hash_img(img3)"
   ]
  },
  {
   "cell_type": "code",
   "execution_count": 12,
   "metadata": {},
   "outputs": [
    {
     "name": "stdout",
     "output_type": "stream",
     "text": [
      "0b1111000010110000100000111100011000100011100011011100111010001100\n",
      "0b1111100000110000111001110110011101000101111001010010010011001110\n",
      "0b1011100100111000110000101110011001100011110000111100001011000110\n"
     ]
    }
   ],
   "source": [
    "print(bin(hash1))\n",
    "print(bin(hash2))\n",
    "print(bin(hash3))"
   ]
  },
  {
   "cell_type": "code",
   "execution_count": 13,
   "metadata": {},
   "outputs": [],
   "source": [
    "a = str(bin(hash1^hash2)).count('1')"
   ]
  },
  {
   "cell_type": "code",
   "execution_count": 14,
   "metadata": {},
   "outputs": [
    {
     "name": "stdout",
     "output_type": "stream",
     "text": [
      "22\n"
     ]
    }
   ],
   "source": [
    "print(a)"
   ]
  },
  {
   "cell_type": "code",
   "execution_count": 15,
   "metadata": {},
   "outputs": [],
   "source": [
    "b = str(bin(hash1^hash3)).count('1')"
   ]
  },
  {
   "cell_type": "code",
   "execution_count": 16,
   "metadata": {},
   "outputs": [],
   "source": [
    "c = str(bin(hash2^hash3)).count('1')"
   ]
  },
  {
   "cell_type": "code",
   "execution_count": 17,
   "metadata": {},
   "outputs": [
    {
     "name": "stdout",
     "output_type": "stream",
     "text": [
      "22 18 20\n"
     ]
    }
   ],
   "source": [
    "print(a, b, c)"
   ]
  },
  {
   "cell_type": "code",
   "execution_count": null,
   "metadata": {},
   "outputs": [],
   "source": []
  }
 ],
 "metadata": {
  "kernelspec": {
   "display_name": "Python 3",
   "language": "python",
   "name": "python3"
  },
  "language_info": {
   "codemirror_mode": {
    "name": "ipython",
    "version": 3
   },
   "file_extension": ".py",
   "mimetype": "text/x-python",
   "name": "python",
   "nbconvert_exporter": "python",
   "pygments_lexer": "ipython3",
   "version": "3.6.4"
  }
 },
 "nbformat": 4,
 "nbformat_minor": 2
}
